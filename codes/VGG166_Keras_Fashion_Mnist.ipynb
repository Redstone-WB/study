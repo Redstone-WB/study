{
 "cells": [
  {
   "cell_type": "markdown",
   "metadata": {},
   "source": [
    "## 20191006, Fashion_mnist, VGG16"
   ]
  },
  {
   "cell_type": "code",
   "execution_count": 1,
   "metadata": {
    "scrolled": false
   },
   "outputs": [
    {
     "name": "stdout",
     "output_type": "stream",
     "text": [
      "Collecting keras\n",
      "\u001b[?25l  Downloading https://files.pythonhosted.org/packages/1b/18/2e1ef121e5560ac24c7ac9e363aa5fa7006c40563c989e7211aba95b793a/Keras-2.3.0-py2.py3-none-any.whl (377kB)\n",
      "\u001b[K     |████████████████████████████████| 378kB 244kB/s eta 0:00:01\n",
      "\u001b[?25hCollecting numpy>=1.9.1 (from keras)\n",
      "\u001b[?25l  Downloading https://files.pythonhosted.org/packages/b4/e8/5ececadd9cc220bb783b4ce6ffaa9266925d37ed41237bc23bc530ab4f3d/numpy-1.17.2-cp37-cp37m-macosx_10_6_intel.whl (15.0MB)\n",
      "\u001b[K     |████████████████████████████████| 15.0MB 767kB/s eta 0:00:01\n",
      "\u001b[?25hCollecting keras-applications>=1.0.6 (from keras)\n",
      "\u001b[?25l  Downloading https://files.pythonhosted.org/packages/71/e3/19762fdfc62877ae9102edf6342d71b28fbfd9dea3d2f96a882ce099b03f/Keras_Applications-1.0.8-py3-none-any.whl (50kB)\n",
      "\u001b[K     |████████████████████████████████| 51kB 6.4MB/s eta 0:00:01\n",
      "\u001b[?25hCollecting pyyaml (from keras)\n",
      "\u001b[?25l  Downloading https://files.pythonhosted.org/packages/e3/e8/b3212641ee2718d556df0f23f78de8303f068fe29cdaa7a91018849582fe/PyYAML-5.1.2.tar.gz (265kB)\n",
      "\u001b[K     |████████████████████████████████| 266kB 3.3MB/s eta 0:00:01\n",
      "\u001b[?25hRequirement already satisfied: six>=1.9.0 in /Users/sktelecom/Library/Python/3.7/lib/python/site-packages (from keras) (1.12.0)\n",
      "Collecting keras-preprocessing>=1.0.5 (from keras)\n",
      "\u001b[?25l  Downloading https://files.pythonhosted.org/packages/28/6a/8c1f62c37212d9fc441a7e26736df51ce6f0e38455816445471f10da4f0a/Keras_Preprocessing-1.1.0-py2.py3-none-any.whl (41kB)\n",
      "\u001b[K     |████████████████████████████████| 51kB 8.9MB/s  eta 0:00:01\n",
      "\u001b[?25hCollecting h5py (from keras)\n",
      "\u001b[?25l  Downloading https://files.pythonhosted.org/packages/1a/8b/4d01ae9a9d50a0bcc7b0b9aae41785d8d9de6fa9bba04dc20b1582181d2d/h5py-2.10.0-cp37-cp37m-macosx_10_6_intel.whl (3.0MB)\n",
      "\u001b[K     |████████████████████████████████| 3.0MB 781kB/s eta 0:00:011\n",
      "\u001b[?25hCollecting scipy>=0.14 (from keras)\n",
      "\u001b[?25l  Downloading https://files.pythonhosted.org/packages/d5/06/1a696649f4b2e706c509cb9333fdc6331fbe71251cede945f9e1fa13ea34/scipy-1.3.1-cp37-cp37m-macosx_10_6_intel.macosx_10_9_intel.macosx_10_9_x86_64.macosx_10_10_intel.macosx_10_10_x86_64.whl (27.7MB)\n",
      "\u001b[K     |████████████████████████████████| 27.7MB 701kB/s eta 0:00:01\n",
      "\u001b[?25hInstalling collected packages: numpy, h5py, keras-applications, pyyaml, keras-preprocessing, scipy, keras\n",
      "  Running setup.py install for pyyaml ... \u001b[?25ldone\n",
      "\u001b[?25hSuccessfully installed h5py-2.10.0 keras-2.3.0 keras-applications-1.0.8 keras-preprocessing-1.1.0 numpy-1.17.2 pyyaml-5.1.2 scipy-1.3.1\n"
     ]
    }
   ],
   "source": [
    "!pip3 install keras"
   ]
  },
  {
   "cell_type": "markdown",
   "metadata": {},
   "source": [
    "## 아래는 Lazyprogrammer code (cnn_class2/fashion.py)"
   ]
  },
  {
   "cell_type": "code",
   "execution_count": 5,
   "metadata": {},
   "outputs": [],
   "source": [
    "# https://deeplearningcourses.com/c/data-science-deep-learning-in-theano-tensorflow\n",
    "# https://www.udemy.com/data-science-deep-learning-in-theano-tensorflow\n",
    "from __future__ import print_function, division\n",
    "from builtins import range\n",
    "# Note: you may need to update your version of future\n",
    "# sudo pip install -U future"
   ]
  },
  {
   "cell_type": "code",
   "execution_count": 12,
   "metadata": {},
   "outputs": [],
   "source": [
    "#!pip3 install pandas"
   ]
  },
  {
   "cell_type": "code",
   "execution_count": null,
   "metadata": {},
   "outputs": [],
   "source": []
  },
  {
   "cell_type": "code",
   "execution_count": 11,
   "metadata": {},
   "outputs": [],
   "source": [
    "\n",
    "from keras.models import Sequential\n",
    "from keras.layers import Dense, Activation, Conv2D, MaxPooling2D, Flatten, Dropout, BatchNormalization\n",
    "\n",
    "import matplotlib.pyplot as plt\n",
    "import pandas as pd\n",
    "import numpy as np"
   ]
  },
  {
   "cell_type": "code",
   "execution_count": 13,
   "metadata": {},
   "outputs": [],
   "source": [
    "# helper\n",
    "def y2indicator(Y):\n",
    "  N = len(Y)\n",
    "  K = len(set(Y))\n",
    "  I = np.zeros((N, K))\n",
    "  I[np.arange(N), Y] = 1\n",
    "  return I"
   ]
  },
  {
   "cell_type": "code",
   "execution_count": 15,
   "metadata": {},
   "outputs": [],
   "source": [
    "\n",
    "# get the data\n",
    "# https://www.kaggle.com/zalando-research/fashionmnist\n",
    "data = pd.read_csv('/Users/sktelecom/Documents/GitHub/study/datasets/fashionmnist/fashion-mnist_train.csv')\n",
    "data = data.values\n",
    "np.random.shuffle(data)"
   ]
  },
  {
   "cell_type": "code",
   "execution_count": 16,
   "metadata": {},
   "outputs": [],
   "source": [
    "X = data[:, 1:].reshape(-1, 28, 28, 1) / 255.0\n",
    "Y = data[:, 0].astype(np.int32)\n",
    "\n",
    "# get shapes\n",
    "# N = len(Y)\n",
    "K = len(set(Y))\n",
    "\n",
    "# by default Keras wants one-hot encoded labels\n",
    "# there's another cost function we can use\n",
    "# where we can just pass in the integer labels directly\n",
    "# just like Tensorflow / Theano\n",
    "Y = y2indicator(Y)"
   ]
  },
  {
   "cell_type": "code",
   "execution_count": 17,
   "metadata": {},
   "outputs": [],
   "source": [
    "# the model will be a sequence of layers\n",
    "model = Sequential()\n",
    "\n",
    "\n",
    "# make the CNN\n",
    "# model.add(Input(shape=(28, 28, 1)))\n",
    "model.add(Conv2D(input_shape=(28, 28, 1), filters=32, kernel_size=(3, 3)))\n",
    "model.add(BatchNormalization())\n",
    "model.add(Activation('relu'))\n",
    "model.add(MaxPooling2D())\n",
    "\n",
    "model.add(Conv2D(filters=64, kernel_size=(3, 3)))\n",
    "model.add(BatchNormalization())\n",
    "model.add(Activation('relu'))\n",
    "model.add(MaxPooling2D())\n",
    "\n",
    "model.add(Conv2D(filters=128, kernel_size=(3, 3)))\n",
    "model.add(BatchNormalization())\n",
    "model.add(Activation('relu'))\n",
    "model.add(MaxPooling2D())\n",
    "\n",
    "model.add(Flatten())\n",
    "model.add(Dense(units=300))\n",
    "model.add(Activation('relu'))\n",
    "model.add(Dropout(0.2))\n",
    "model.add(Dense(units=K))\n",
    "model.add(Activation('softmax'))"
   ]
  },
  {
   "cell_type": "code",
   "execution_count": 18,
   "metadata": {},
   "outputs": [
    {
     "name": "stdout",
     "output_type": "stream",
     "text": [
      "Train on 40199 samples, validate on 19801 samples\n",
      "Epoch 1/15\n",
      "40199/40199 [==============================] - 39s 981us/step - loss: 0.5198 - accuracy: 0.8103 - val_loss: 0.4078 - val_accuracy: 0.8553\n",
      "Epoch 2/15\n",
      "40199/40199 [==============================] - 39s 967us/step - loss: 0.3628 - accuracy: 0.8662 - val_loss: 0.3649 - val_accuracy: 0.8630\n",
      "Epoch 3/15\n",
      "40199/40199 [==============================] - 39s 968us/step - loss: 0.3111 - accuracy: 0.8858 - val_loss: 0.3310 - val_accuracy: 0.8792\n",
      "Epoch 4/15\n",
      "40199/40199 [==============================] - 39s 970us/step - loss: 0.2787 - accuracy: 0.8945 - val_loss: 0.4032 - val_accuracy: 0.8559\n",
      "Epoch 5/15\n",
      "40199/40199 [==============================] - 39s 969us/step - loss: 0.2480 - accuracy: 0.9078 - val_loss: 0.3351 - val_accuracy: 0.8764\n",
      "Epoch 6/15\n",
      "40199/40199 [==============================] - 39s 979us/step - loss: 0.2264 - accuracy: 0.9169 - val_loss: 0.3321 - val_accuracy: 0.8859\n",
      "Epoch 7/15\n",
      "40199/40199 [==============================] - 38s 956us/step - loss: 0.2041 - accuracy: 0.9222 - val_loss: 0.3404 - val_accuracy: 0.8810\n",
      "Epoch 8/15\n",
      "40199/40199 [==============================] - 38s 958us/step - loss: 0.1839 - accuracy: 0.9306 - val_loss: 0.3448 - val_accuracy: 0.8887\n",
      "Epoch 9/15\n",
      "40199/40199 [==============================] - 38s 957us/step - loss: 0.1655 - accuracy: 0.9375 - val_loss: 0.3415 - val_accuracy: 0.8927\n",
      "Epoch 10/15\n",
      "40199/40199 [==============================] - 38s 957us/step - loss: 0.1502 - accuracy: 0.9425 - val_loss: 0.3998 - val_accuracy: 0.8760\n",
      "Epoch 11/15\n",
      "40199/40199 [==============================] - 39s 962us/step - loss: 0.1390 - accuracy: 0.9479 - val_loss: 0.4163 - val_accuracy: 0.8784\n",
      "Epoch 12/15\n",
      "40199/40199 [==============================] - 38s 953us/step - loss: 0.1251 - accuracy: 0.9520 - val_loss: 0.3855 - val_accuracy: 0.8947\n",
      "Epoch 13/15\n",
      "40199/40199 [==============================] - 38s 956us/step - loss: 0.1193 - accuracy: 0.9536 - val_loss: 0.4228 - val_accuracy: 0.8840\n",
      "Epoch 14/15\n",
      "40199/40199 [==============================] - 38s 953us/step - loss: 0.1099 - accuracy: 0.9585 - val_loss: 0.4645 - val_accuracy: 0.8867\n",
      "Epoch 15/15\n",
      "40199/40199 [==============================] - 39s 960us/step - loss: 0.1005 - accuracy: 0.9623 - val_loss: 0.4293 - val_accuracy: 0.8872\n",
      "Returned: <keras.callbacks.callbacks.History object at 0x15f571590>\n",
      "dict_keys(['val_loss', 'val_accuracy', 'loss', 'accuracy'])\n"
     ]
    },
    {
     "data": {
      "image/png": "[encoded data removed]",
      "text/plain": [
       "<Figure size 432x288 with 1 Axes>"
      ]
     },
     "metadata": {
      "needs_background": "light"
     },
     "output_type": "display_data"
    },
    {
     "ename": "KeyError",
     "evalue": "'acc'",
     "output_type": "error",
     "traceback": [
      "\u001b[0;31m---------------------------------------------------------------------------\u001b[0m",
      "\u001b[0;31mKeyError\u001b[0m                                  Traceback (most recent call last)",
      "\u001b[0;32m<ipython-input-18-459ca3f56ca3>\u001b[0m in \u001b[0;36m<module>\u001b[0;34m\u001b[0m\n\u001b[1;32m     28\u001b[0m \u001b[0;34m\u001b[0m\u001b[0m\n\u001b[1;32m     29\u001b[0m \u001b[0;31m# accuracies\u001b[0m\u001b[0;34m\u001b[0m\u001b[0;34m\u001b[0m\u001b[0;34m\u001b[0m\u001b[0m\n\u001b[0;32m---> 30\u001b[0;31m \u001b[0mplt\u001b[0m\u001b[0;34m.\u001b[0m\u001b[0mplot\u001b[0m\u001b[0;34m(\u001b[0m\u001b[0mr\u001b[0m\u001b[0;34m.\u001b[0m\u001b[0mhistory\u001b[0m\u001b[0;34m[\u001b[0m\u001b[0;34m'acc'\u001b[0m\u001b[0;34m]\u001b[0m\u001b[0;34m,\u001b[0m \u001b[0mlabel\u001b[0m\u001b[0;34m=\u001b[0m\u001b[0;34m'acc'\u001b[0m\u001b[0;34m)\u001b[0m\u001b[0;34m\u001b[0m\u001b[0;34m\u001b[0m\u001b[0m\n\u001b[0m\u001b[1;32m     31\u001b[0m \u001b[0mplt\u001b[0m\u001b[0;34m.\u001b[0m\u001b[0mplot\u001b[0m\u001b[0;34m(\u001b[0m\u001b[0mr\u001b[0m\u001b[0;34m.\u001b[0m\u001b[0mhistory\u001b[0m\u001b[0;34m[\u001b[0m\u001b[0;34m'val_acc'\u001b[0m\u001b[0;34m]\u001b[0m\u001b[0;34m,\u001b[0m \u001b[0mlabel\u001b[0m\u001b[0;34m=\u001b[0m\u001b[0;34m'val_acc'\u001b[0m\u001b[0;34m)\u001b[0m\u001b[0;34m\u001b[0m\u001b[0;34m\u001b[0m\u001b[0m\n\u001b[1;32m     32\u001b[0m \u001b[0mplt\u001b[0m\u001b[0;34m.\u001b[0m\u001b[0mlegend\u001b[0m\u001b[0;34m(\u001b[0m\u001b[0;34m)\u001b[0m\u001b[0;34m\u001b[0m\u001b[0;34m\u001b[0m\u001b[0m\n",
      "\u001b[0;31mKeyError\u001b[0m: 'acc'"
     ]
    }
   ],
   "source": [
    "# list of losses: https://keras.io/losses/\n",
    "# list of optimizers: https://keras.io/optimizers/\n",
    "# list of metrics: https://keras.io/metrics/\n",
    "model.compile(\n",
    "  loss='categorical_crossentropy',\n",
    "  optimizer='adam',\n",
    "  metrics=['accuracy']\n",
    ")\n",
    "\n",
    "# note: multiple ways to choose a backend\n",
    "# either theano, tensorflow, or cntk\n",
    "# https://keras.io/backend/\n",
    "\n",
    "\n",
    "# gives us back a <keras.callbacks.History object at 0x112e61a90>\n",
    "r = model.fit(X, Y, validation_split=0.33, epochs=15, batch_size=32)\n",
    "print(\"Returned:\", r)\n",
    "\n",
    "\n"
   ]
  },
  {
   "cell_type": "code",
   "execution_count": 20,
   "metadata": {},
   "outputs": [
    {
     "name": "stdout",
     "output_type": "stream",
     "text": [
      "dict_keys(['val_loss', 'val_accuracy', 'loss', 'accuracy'])\n"
     ]
    }
   ],
   "source": [
    "# print the available keys\n",
    "# should see: dict_keys(['val_loss', 'acc', 'loss', 'val_acc'])\n",
    "print(r.history.keys())\n",
    "\n"
   ]
  },
  {
   "cell_type": "code",
   "execution_count": 23,
   "metadata": {},
   "outputs": [
    {
     "data": {
      "image/png": "[encoded data removed]",
      "text/plain": [
       "<Figure size 432x288 with 1 Axes>"
      ]
     },
     "metadata": {
      "needs_background": "light"
     },
     "output_type": "display_data"
    },
    {
     "data": {
      "image/png": "[encoded data removed]",
      "text/plain": [
       "<Figure size 432x288 with 1 Axes>"
      ]
     },
     "metadata": {
      "needs_background": "light"
     },
     "output_type": "display_data"
    }
   ],
   "source": [
    "# plot some data\n",
    "plt.plot(r.history['loss'], label='loss')\n",
    "plt.plot(r.history['val_loss'], label='val_loss')\n",
    "plt.legend()\n",
    "plt.show()\n",
    "\n",
    "# accuracies\n",
    "plt.plot(r.history['accuracy'], label='accuracy')\n",
    "plt.plot(r.history['val_accuracy'], label='val_accuracy')\n",
    "plt.legend()\n",
    "plt.show()\n",
    "\n"
   ]
  },
  {
   "cell_type": "code",
   "execution_count": 24,
   "metadata": {},
   "outputs": [],
   "source": [
    "# get the test data\n",
    "# https://www.kaggle.com/zalando-research/fashionmnist\n",
    "test_data = pd.read_csv('/Users/sktelecom/Documents/GitHub/study/datasets/fashionmnist/fashion-mnist_test.csv')\n",
    "test_data = test_data.values\n",
    "np.random.shuffle(test_data)"
   ]
  },
  {
   "cell_type": "code",
   "execution_count": 25,
   "metadata": {},
   "outputs": [],
   "source": [
    "t_X = test_data[:, 1:].reshape(-1, 28, 28, 1) / 255.0\n",
    "t_Y = test_data[:, 0].astype(np.int32)\n",
    "\n",
    "# get shapes\n",
    "# N = len(Y)\n",
    "t_K = len(set(t_Y))\n",
    "\n",
    "# by default Keras wants one-hot encoded labels\n",
    "# there's another cost function we can use\n",
    "# where we can just pass in the integer labels directly\n",
    "# just like Tensorflow / Theano\n",
    "t_Y = y2indicator(t_Y)"
   ]
  },
  {
   "cell_type": "code",
   "execution_count": 34,
   "metadata": {},
   "outputs": [],
   "source": [
    "# gives us back a <keras.callbacks.History object at 0x112e61a90>\n",
    "#r_2 = model.fit(t_X, t_Y, validation_split=0.33, epochs=10, batch_size=32)\n",
    "#print(\"Returned:\", r_2)\n",
    "predicted = model.predict(t_X)\n",
    "\n"
   ]
  },
  {
   "cell_type": "code",
   "execution_count": 45,
   "metadata": {},
   "outputs": [],
   "source": [
    "predicted_classes = model.predict_classes(t_X)\n",
    "\n"
   ]
  },
  {
   "cell_type": "code",
   "execution_count": 47,
   "metadata": {
    "scrolled": true
   },
   "outputs": [
    {
     "data": {
      "text/plain": [
       "array([7, 5])"
      ]
     },
     "execution_count": 47,
     "metadata": {},
     "output_type": "execute_result"
    }
   ],
   "source": [
    "predicted_classes[:2]"
   ]
  },
  {
   "cell_type": "code",
   "execution_count": 48,
   "metadata": {},
   "outputs": [
    {
     "data": {
      "text/plain": [
       "array([[2.4687294e-10, 4.7371671e-13, 9.6886386e-14, 4.6530110e-12,\n",
       "        1.9130168e-14, 4.8175551e-08, 1.0352757e-14, 9.9999928e-01,\n",
       "        2.0352506e-10, 6.8888323e-07]], dtype=float32)"
      ]
     },
     "execution_count": 48,
     "metadata": {},
     "output_type": "execute_result"
    }
   ],
   "source": [
    "predicted[:1]"
   ]
  },
  {
   "cell_type": "code",
   "execution_count": 59,
   "metadata": {},
   "outputs": [],
   "source": [
    "pre_Y = predicted.round().astype(int)"
   ]
  },
  {
   "cell_type": "code",
   "execution_count": 69,
   "metadata": {
    "scrolled": true
   },
   "outputs": [
    {
     "data": {
      "text/plain": [
       "array([[False, False, False, ...,  True, False, False],\n",
       "       [False, False, False, ..., False, False, False],\n",
       "       [False, False, False, ..., False, False,  True],\n",
       "       ...,\n",
       "       [False, False, False, ..., False, False, False],\n",
       "       [False,  True, False, ..., False, False, False],\n",
       "       [False, False, False, ..., False,  True, False]])"
      ]
     },
     "execution_count": 69,
     "metadata": {},
     "output_type": "execute_result"
    }
   ],
   "source": [
    "pre_Y == 1"
   ]
  },
  {
   "cell_type": "code",
   "execution_count": 70,
   "metadata": {},
   "outputs": [
    {
     "data": {
      "text/plain": [
       "array([[False, False, False, ...,  True, False, False],\n",
       "       [False, False, False, ..., False, False, False],\n",
       "       [False, False, False, ..., False, False,  True],\n",
       "       ...,\n",
       "       [False, False, False, ..., False, False, False],\n",
       "       [False,  True, False, ..., False, False, False],\n",
       "       [False, False, False, ..., False,  True, False]])"
      ]
     },
     "execution_count": 70,
     "metadata": {},
     "output_type": "execute_result"
    }
   ],
   "source": [
    "t_Y == 1"
   ]
  },
  {
   "cell_type": "code",
   "execution_count": 78,
   "metadata": {},
   "outputs": [
    {
     "data": {
      "text/plain": [
       "0.953"
      ]
     },
     "execution_count": 78,
     "metadata": {},
     "output_type": "execute_result"
    }
   ],
   "source": [
    "#test_set 확률 도출\n",
    "\n",
    "((pre_Y == 1) & (t_Y == 1)).sum() / len(t_Y)"
   ]
  }
 ],
 "metadata": {
  "kernelspec": {
   "display_name": "Python 3",
   "language": "python",
   "name": "python3"
  },
  "language_info": {
   "codemirror_mode": {
    "name": "ipython",
    "version": 3
   },
   "file_extension": ".py",
   "mimetype": "text/x-python",
   "name": "python",
   "nbconvert_exporter": "python",
   "pygments_lexer": "ipython3",
   "version": "3.7.4"
  }
 },
 "nbformat": 4,
 "nbformat_minor": 2
}
